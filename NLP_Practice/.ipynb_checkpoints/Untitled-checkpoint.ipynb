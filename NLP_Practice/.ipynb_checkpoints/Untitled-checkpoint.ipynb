{
 "cells": [
  {
   "cell_type": "code",
   "execution_count": null,
   "id": "4e159fcc",
   "metadata": {},
   "outputs": [],
   "source": [
    "# This is following NLP - https://realpython.com/python-nltk-sentiment-analysis/"
   ]
  },
  {
   "cell_type": "code",
   "execution_count": 3,
   "id": "6e11265e",
   "metadata": {},
   "outputs": [],
   "source": [
    "import nltk"
   ]
  },
  {
   "cell_type": "code",
   "execution_count": 4,
   "id": "943042d3",
   "metadata": {},
   "outputs": [
    {
     "name": "stderr",
     "output_type": "stream",
     "text": [
      "[nltk_data] Downloading package names to /home/rgupta323/nltk_data...\n",
      "[nltk_data]   Package names is already up-to-date!\n",
      "[nltk_data] Downloading package stopwords to\n",
      "[nltk_data]     /home/rgupta323/nltk_data...\n",
      "[nltk_data]   Package stopwords is already up-to-date!\n",
      "[nltk_data] Downloading package state_union to\n",
      "[nltk_data]     /home/rgupta323/nltk_data...\n",
      "[nltk_data]   Package state_union is already up-to-date!\n",
      "[nltk_data] Downloading package twitter_samples to\n",
      "[nltk_data]     /home/rgupta323/nltk_data...\n",
      "[nltk_data]   Package twitter_samples is already up-to-date!\n",
      "[nltk_data] Downloading package movie_reviews to\n",
      "[nltk_data]     /home/rgupta323/nltk_data...\n",
      "[nltk_data]   Package movie_reviews is already up-to-date!\n",
      "[nltk_data] Downloading package averaged_perceptron_tagger to\n",
      "[nltk_data]     /home/rgupta323/nltk_data...\n",
      "[nltk_data]   Package averaged_perceptron_tagger is already up-to-\n",
      "[nltk_data]       date!\n",
      "[nltk_data] Downloading package vader_lexicon to\n",
      "[nltk_data]     /home/rgupta323/nltk_data...\n",
      "[nltk_data]   Package vader_lexicon is already up-to-date!\n",
      "[nltk_data] Downloading package punkt to /home/rgupta323/nltk_data...\n",
      "[nltk_data]   Package punkt is already up-to-date!\n"
     ]
    },
    {
     "data": {
      "text/plain": [
       "True"
      ]
     },
     "execution_count": 4,
     "metadata": {},
     "output_type": "execute_result"
    }
   ],
   "source": [
    "# download specific resources for this tutorial \n",
    "nltk.download([\"names\", \"stopwords\", \"state_union\", \"twitter_samples\",\"movie_reviews\",\"averaged_perceptron_tagger\",\n",
    "               \"vader_lexicon\",\"punkt\"])"
   ]
  },
  {
   "cell_type": "code",
   "execution_count": 5,
   "id": "7cbcd1a5",
   "metadata": {},
   "outputs": [
    {
     "name": "stdout",
     "output_type": "stream",
     "text": [
      "['PRESIDENT', 'HARRY', 'S', 'TRUMAN', 'S', 'ADDRESS', 'BEFORE', 'A', 'JOINT', 'SESSION']\n",
      "words without stop words: ['PRESIDENT', 'HARRY', 'TRUMAN', 'ADDRESS', 'JOINT', 'SESSION', 'CONGRESS', 'April', 'Mr', 'Speaker', 'Mr', 'President', 'Members', 'Congress', 'heavy', 'heart', 'stand', 'friends', 'colleagues', 'Congress']\n"
     ]
    }
   ],
   "source": [
    "words = [w for w in nltk.corpus.state_union.words() if w.isalpha()] #list of words from nltk state of union \n",
    "print(words[:10]) # list that has stop words \n",
    "\n",
    "# In the words list, there's lots of stop words (\"of\", \"a\", \"the\"). We want to filter out these words because they can \n",
    "# have a negative effect on the analysis so we need to be able to filter these words out \n",
    "stopwords = nltk.corpus.stopwords.words(\"english\")\n",
    "words = [w for w in words if w.lower() not in stopwords]\n",
    "print(\"words without stop words: {}\".format(words[:20]))"
   ]
  },
  {
   "cell_type": "code",
   "execution_count": 6,
   "id": "ba1f6810",
   "metadata": {},
   "outputs": [
    {
     "name": "stdout",
     "output_type": "stream",
     "text": [
      "['For', 'some', 'quick', 'analysis', ',', 'creating', 'a', 'corpus', 'could',\n",
      " 'be', 'overkill', '.', 'If', 'all', 'you', 'need', 'is', 'a', 'word', 'list',\n",
      " ',', 'there', 'are', 'simpler', 'ways', 'to', 'achieve', 'that', 'goal', '.']\n"
     ]
    }
   ],
   "source": [
    "from pprint import pprint\n",
    "text = \"\"\"\n",
    "For some quick analysis, creating a corpus could be overkill.\n",
    "If all you need is a word list,\n",
    "there are simpler ways to achieve that goal.\"\"\"\n",
    "pprint(nltk.word_tokenize(text), width=79, compact=True) "
   ]
  },
  {
   "cell_type": "code",
   "execution_count": 10,
   "id": "c01f0c51",
   "metadata": {},
   "outputs": [],
   "source": [
    "# Creating Frequency Distributions \n",
    "# A frequency distribution is essentially a table that tells you how many times each word appears within a given text.\n",
    "#In NLTK, frequency distributions are a specific object type implemented as a distinct class called FreqDist. \n",
    "\n",
    "words: list[str] = nltk.word_tokenize(text) \n",
    "fd = nltk.FreqDist(words) # this will create a frequency distribution object (similar to a python dict)"
   ]
  },
  {
   "cell_type": "code",
   "execution_count": 11,
   "id": "76e2fbf5",
   "metadata": {},
   "outputs": [
    {
     "name": "stdout",
     "output_type": "stream",
     "text": [
      "[(',', 2), ('a', 2), ('.', 2)]\n",
      ", a . \n",
      "2 2 2 \n",
      "None\n"
     ]
    }
   ],
   "source": [
    "# Getting some data based on teh frequency distribution \n",
    "print(fd.most_common(3))\n",
    "\n",
    "print(fd.tabulate(3))"
   ]
  },
  {
   "cell_type": "code",
   "execution_count": 12,
   "id": "8249667a",
   "metadata": {},
   "outputs": [
    {
     "name": "stdout",
     "output_type": "stream",
     "text": [
      "Displaying 5 of 1079 matches:\n",
      " would want us to do . That is what America will do . So much blood has already\n",
      "ay , the entire world is looking to America for enlightened leadership to peace\n",
      "beyond any shadow of a doubt , that America will continue the fight for freedom\n",
      " to make complete victory certain , America will never become a party to any pl\n",
      "nly in law and in justice . Here in America , we have labored long and hard to \n"
     ]
    }
   ],
   "source": [
    "# Extracting Concordance & Collactions \n",
    "# a concordance is a collection of word locations along with their context. \n",
    "# You can use concordances to find: \n",
    "    # HOw many times a word appears \n",
    "    # where each occurence appears \n",
    "    # what words surround each occurence \n",
    "    \n",
    "# Using this library (nltk), you can do this by calling .concordance()\n",
    "# to use that method, you'd need to build a new word list from the original corpus text so that all the context, even \n",
    "# stop words will be there. \n",
    "\n",
    "text = nltk.Text(nltk.corpus.state_union.words())\n",
    "text.concordance(\"america\", lines=5)"
   ]
  },
  {
   "cell_type": "code",
   "execution_count": null,
   "id": "63c8601c",
   "metadata": {},
   "outputs": [],
   "source": []
  }
 ],
 "metadata": {
  "kernelspec": {
   "display_name": "Python 3 (ipykernel)",
   "language": "python",
   "name": "python3"
  },
  "language_info": {
   "codemirror_mode": {
    "name": "ipython",
    "version": 3
   },
   "file_extension": ".py",
   "mimetype": "text/x-python",
   "name": "python",
   "nbconvert_exporter": "python",
   "pygments_lexer": "ipython3",
   "version": "3.10.6"
  }
 },
 "nbformat": 4,
 "nbformat_minor": 5
}
